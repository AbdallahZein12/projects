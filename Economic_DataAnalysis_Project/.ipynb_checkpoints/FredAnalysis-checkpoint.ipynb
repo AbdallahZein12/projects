{
 "cells": [
  {
   "cell_type": "markdown",
   "id": "58cc0404-8eca-4a74-8a27-10a1e3625e32",
   "metadata": {},
   "source": [
    "# Economic Data Analysis with Fred & Pandas\n",
    "\n",
    "![FredEcoImg](https://www.stlouisfed.org/-/media/project/frbstl/stlouisfed/images/education/large-thumbs/fred.png)"
   ]
  },
  {
   "cell_type": "code",
   "execution_count": 51,
   "id": "ccb79831-329d-4ff3-8a38-42715abe5faa",
   "metadata": {},
   "outputs": [],
   "source": [
    "import pandas as pd \n",
    "import numpy as np\n",
    "import matplotlib.pyplot as plt\n",
    "import plotly.express as px\n",
    "import os\n",
    "\n",
    "plt.style.use('fivethirtyeight')\n",
    "pd.set_option('display.max_columns', 500)\n",
    "color_pal = plt.rcParams[\"axes.prop_cycle\"].by_key()[\"color\"]\n",
    "\n",
    "from fredapi import Fred\n",
    "\n",
    "API_KEY = os.environ[\"FRED_API\"] "
   ]
  },
  {
   "cell_type": "markdown",
   "id": "f54beed2-5578-403d-b2d0-5848749e34b9",
   "metadata": {},
   "source": [
    "# 1. Create The Fred Object"
   ]
  },
  {
   "cell_type": "code",
   "execution_count": 52,
   "id": "3095447e-bdcd-4a95-8f42-2da36c31a5f4",
   "metadata": {},
   "outputs": [],
   "source": [
    "fred = Fred(api_key = API_KEY)"
   ]
  },
  {
   "cell_type": "markdown",
   "id": "e859d912-50e1-4ab2-a4d9-85d6d99b1e89",
   "metadata": {},
   "source": [
    "# 2. Search for Economic Data!"
   ]
  },
  {
   "cell_type": "code",
   "execution_count": 53,
   "id": "d1b2a095-bc11-448e-93da-94736607057e",
   "metadata": {},
   "outputs": [],
   "source": [
    "sp_search = fred.search('S&P', order_by='popularity')"
   ]
  },
  {
   "cell_type": "code",
   "execution_count": 54,
   "id": "9d2b71b6-ab23-4f85-8fcc-533c72e25a7d",
   "metadata": {},
   "outputs": [
    {
     "data": {
      "text/html": [
       "<div>\n",
       "<style scoped>\n",
       "    .dataframe tbody tr th:only-of-type {\n",
       "        vertical-align: middle;\n",
       "    }\n",
       "\n",
       "    .dataframe tbody tr th {\n",
       "        vertical-align: top;\n",
       "    }\n",
       "\n",
       "    .dataframe thead th {\n",
       "        text-align: right;\n",
       "    }\n",
       "</style>\n",
       "<table border=\"1\" class=\"dataframe\">\n",
       "  <thead>\n",
       "    <tr style=\"text-align: right;\">\n",
       "      <th></th>\n",
       "      <th>id</th>\n",
       "      <th>realtime_start</th>\n",
       "      <th>realtime_end</th>\n",
       "      <th>title</th>\n",
       "      <th>observation_start</th>\n",
       "      <th>observation_end</th>\n",
       "      <th>frequency</th>\n",
       "      <th>frequency_short</th>\n",
       "      <th>units</th>\n",
       "      <th>units_short</th>\n",
       "      <th>seasonal_adjustment</th>\n",
       "      <th>seasonal_adjustment_short</th>\n",
       "      <th>last_updated</th>\n",
       "      <th>popularity</th>\n",
       "      <th>notes</th>\n",
       "    </tr>\n",
       "    <tr>\n",
       "      <th>series id</th>\n",
       "      <th></th>\n",
       "      <th></th>\n",
       "      <th></th>\n",
       "      <th></th>\n",
       "      <th></th>\n",
       "      <th></th>\n",
       "      <th></th>\n",
       "      <th></th>\n",
       "      <th></th>\n",
       "      <th></th>\n",
       "      <th></th>\n",
       "      <th></th>\n",
       "      <th></th>\n",
       "      <th></th>\n",
       "      <th></th>\n",
       "    </tr>\n",
       "  </thead>\n",
       "  <tbody>\n",
       "    <tr>\n",
       "      <th>BAMLH0A0HYM2</th>\n",
       "      <td>BAMLH0A0HYM2</td>\n",
       "      <td>2023-10-02</td>\n",
       "      <td>2023-10-02</td>\n",
       "      <td>ICE BofA US High Yield Index Option-Adjusted S...</td>\n",
       "      <td>1996-12-31</td>\n",
       "      <td>2023-09-28</td>\n",
       "      <td>Daily, Close</td>\n",
       "      <td>D</td>\n",
       "      <td>Percent</td>\n",
       "      <td>%</td>\n",
       "      <td>Not Seasonally Adjusted</td>\n",
       "      <td>NSA</td>\n",
       "      <td>2023-09-29 09:18:09-05:00</td>\n",
       "      <td>93</td>\n",
       "      <td>The ICE BofA Option-Adjusted Spreads (OASs) ar...</td>\n",
       "    </tr>\n",
       "    <tr>\n",
       "      <th>CSUSHPINSA</th>\n",
       "      <td>CSUSHPINSA</td>\n",
       "      <td>2023-10-02</td>\n",
       "      <td>2023-10-02</td>\n",
       "      <td>S&amp;P/Case-Shiller U.S. National Home Price Index</td>\n",
       "      <td>1987-01-01</td>\n",
       "      <td>2023-07-01</td>\n",
       "      <td>Monthly</td>\n",
       "      <td>M</td>\n",
       "      <td>Index Jan 2000=100</td>\n",
       "      <td>Index Jan 2000=100</td>\n",
       "      <td>Not Seasonally Adjusted</td>\n",
       "      <td>NSA</td>\n",
       "      <td>2023-09-26 08:11:02-05:00</td>\n",
       "      <td>89</td>\n",
       "      <td>For more information regarding the index, plea...</td>\n",
       "    </tr>\n",
       "    <tr>\n",
       "      <th>SP500</th>\n",
       "      <td>SP500</td>\n",
       "      <td>2023-10-02</td>\n",
       "      <td>2023-10-02</td>\n",
       "      <td>S&amp;P 500</td>\n",
       "      <td>2013-09-30</td>\n",
       "      <td>2023-09-29</td>\n",
       "      <td>Daily, Close</td>\n",
       "      <td>D</td>\n",
       "      <td>Index</td>\n",
       "      <td>Index</td>\n",
       "      <td>Not Seasonally Adjusted</td>\n",
       "      <td>NSA</td>\n",
       "      <td>2023-09-29 19:11:02-05:00</td>\n",
       "      <td>83</td>\n",
       "      <td>The observations for the S&amp;P 500 represent the...</td>\n",
       "    </tr>\n",
       "    <tr>\n",
       "      <th>BAMLH0A0HYM2EY</th>\n",
       "      <td>BAMLH0A0HYM2EY</td>\n",
       "      <td>2023-10-02</td>\n",
       "      <td>2023-10-02</td>\n",
       "      <td>ICE BofA US High Yield Index Effective Yield</td>\n",
       "      <td>1996-12-31</td>\n",
       "      <td>2023-09-28</td>\n",
       "      <td>Daily, Close</td>\n",
       "      <td>D</td>\n",
       "      <td>Percent</td>\n",
       "      <td>%</td>\n",
       "      <td>Not Seasonally Adjusted</td>\n",
       "      <td>NSA</td>\n",
       "      <td>2023-09-29 09:18:12-05:00</td>\n",
       "      <td>82</td>\n",
       "      <td>This data represents the effective yield of th...</td>\n",
       "    </tr>\n",
       "    <tr>\n",
       "      <th>MEHOINUSA672N</th>\n",
       "      <td>MEHOINUSA672N</td>\n",
       "      <td>2023-10-02</td>\n",
       "      <td>2023-10-02</td>\n",
       "      <td>Real Median Household Income in the United States</td>\n",
       "      <td>1984-01-01</td>\n",
       "      <td>2022-01-01</td>\n",
       "      <td>Annual</td>\n",
       "      <td>A</td>\n",
       "      <td>2021 CPI-U-RS Adjusted Dollars</td>\n",
       "      <td>2021 CPI-U-RS Adjusted $</td>\n",
       "      <td>Not Seasonally Adjusted</td>\n",
       "      <td>NSA</td>\n",
       "      <td>2023-09-12 13:48:02-05:00</td>\n",
       "      <td>82</td>\n",
       "      <td>Household data are collected as of March.  As ...</td>\n",
       "    </tr>\n",
       "  </tbody>\n",
       "</table>\n",
       "</div>"
      ],
      "text/plain": [
       "                            id realtime_start realtime_end  \\\n",
       "series id                                                    \n",
       "BAMLH0A0HYM2      BAMLH0A0HYM2     2023-10-02   2023-10-02   \n",
       "CSUSHPINSA          CSUSHPINSA     2023-10-02   2023-10-02   \n",
       "SP500                    SP500     2023-10-02   2023-10-02   \n",
       "BAMLH0A0HYM2EY  BAMLH0A0HYM2EY     2023-10-02   2023-10-02   \n",
       "MEHOINUSA672N    MEHOINUSA672N     2023-10-02   2023-10-02   \n",
       "\n",
       "                                                            title  \\\n",
       "series id                                                           \n",
       "BAMLH0A0HYM2    ICE BofA US High Yield Index Option-Adjusted S...   \n",
       "CSUSHPINSA        S&P/Case-Shiller U.S. National Home Price Index   \n",
       "SP500                                                     S&P 500   \n",
       "BAMLH0A0HYM2EY       ICE BofA US High Yield Index Effective Yield   \n",
       "MEHOINUSA672N   Real Median Household Income in the United States   \n",
       "\n",
       "               observation_start observation_end     frequency  \\\n",
       "series id                                                        \n",
       "BAMLH0A0HYM2          1996-12-31      2023-09-28  Daily, Close   \n",
       "CSUSHPINSA            1987-01-01      2023-07-01       Monthly   \n",
       "SP500                 2013-09-30      2023-09-29  Daily, Close   \n",
       "BAMLH0A0HYM2EY        1996-12-31      2023-09-28  Daily, Close   \n",
       "MEHOINUSA672N         1984-01-01      2022-01-01        Annual   \n",
       "\n",
       "               frequency_short                           units  \\\n",
       "series id                                                        \n",
       "BAMLH0A0HYM2                 D                         Percent   \n",
       "CSUSHPINSA                   M              Index Jan 2000=100   \n",
       "SP500                        D                           Index   \n",
       "BAMLH0A0HYM2EY               D                         Percent   \n",
       "MEHOINUSA672N                A  2021 CPI-U-RS Adjusted Dollars   \n",
       "\n",
       "                             units_short      seasonal_adjustment  \\\n",
       "series id                                                           \n",
       "BAMLH0A0HYM2                           %  Not Seasonally Adjusted   \n",
       "CSUSHPINSA            Index Jan 2000=100  Not Seasonally Adjusted   \n",
       "SP500                              Index  Not Seasonally Adjusted   \n",
       "BAMLH0A0HYM2EY                         %  Not Seasonally Adjusted   \n",
       "MEHOINUSA672N   2021 CPI-U-RS Adjusted $  Not Seasonally Adjusted   \n",
       "\n",
       "               seasonal_adjustment_short               last_updated  \\\n",
       "series id                                                             \n",
       "BAMLH0A0HYM2                         NSA  2023-09-29 09:18:09-05:00   \n",
       "CSUSHPINSA                           NSA  2023-09-26 08:11:02-05:00   \n",
       "SP500                                NSA  2023-09-29 19:11:02-05:00   \n",
       "BAMLH0A0HYM2EY                       NSA  2023-09-29 09:18:12-05:00   \n",
       "MEHOINUSA672N                        NSA  2023-09-12 13:48:02-05:00   \n",
       "\n",
       "               popularity                                              notes  \n",
       "series id                                                                     \n",
       "BAMLH0A0HYM2           93  The ICE BofA Option-Adjusted Spreads (OASs) ar...  \n",
       "CSUSHPINSA             89  For more information regarding the index, plea...  \n",
       "SP500                  83  The observations for the S&P 500 represent the...  \n",
       "BAMLH0A0HYM2EY         82  This data represents the effective yield of th...  \n",
       "MEHOINUSA672N          82  Household data are collected as of March.  As ...  "
      ]
     },
     "execution_count": 54,
     "metadata": {},
     "output_type": "execute_result"
    }
   ],
   "source": [
    "sp_search.head()"
   ]
  },
  {
   "cell_type": "markdown",
   "id": "8243a8cd-897f-4bc5-a0eb-170e9e9c2b38",
   "metadata": {},
   "source": [
    "# 3. Pull Raw Data & Plot"
   ]
  },
  {
   "cell_type": "code",
   "execution_count": 55,
   "id": "ec73aa98-c59d-4c19-b102-48c08182aa43",
   "metadata": {},
   "outputs": [
    {
     "data": {
      "text/plain": [
       "<Axes: title={'center': 'S&P 500'}>"
      ]
     },
     "execution_count": 55,
     "metadata": {},
     "output_type": "execute_result"
    },
    {
     "data": {
      "image/png": "[encoded data removed]",
      "text/plain": [
       "<Figure size 1000x500 with 1 Axes>"
      ]
     },
     "metadata": {},
     "output_type": "display_data"
    }
   ],
   "source": [
    "sp500 = fred.get_series('SP500')\n",
    "sp500.plot(figsize=(10, 5), title='S&P 500', lw=2)"
   ]
  },
  {
   "cell_type": "markdown",
   "id": "8ae27e46-30ca-438c-a040-301b4d16a4ae",
   "metadata": {},
   "source": [
    "# 4. Pull and Join Multiple Data Series"
   ]
  },
  {
   "cell_type": "code",
   "execution_count": 65,
   "id": "5f0a2527-1f96-447b-88f9-8d5873e63828",
   "metadata": {},
   "outputs": [],
   "source": [
    "unemp_df = fred.search(\"unemployment rate in\", filter=('frequency','Monthly'))\n",
    "unemp_df = unemp_df.query('seasonal_adjustment == \"Seasonally Adjusted\" and units == \"Percent\"')\n",
    "unemp_df = unemp_df.loc[unemp_df['title'].str.contains('Unemployment Rate in')]"
   ]
  },
  {
   "cell_type": "code",
   "execution_count": 66,
   "id": "d62f227e-6bb5-48f3-8b8a-a839ccf7ce4d",
   "metadata": {},
   "outputs": [
    {
     "data": {
      "text/plain": [
       "Index(['CAUR', 'TXUR', 'FLUR', 'NYUR', 'AURUKM', 'OHUR', 'ALUR', 'PAUR',\n",
       "       'MIUR', 'MAUR', 'COUR', 'NCUR', 'ILUR', 'NJUR', 'VAUR', 'KYUR', 'WAUR',\n",
       "       'INUR', 'TNUR', 'MNUR', 'GAUR', 'ORUR', 'ARUR', 'NMUR', 'WIUR', 'AZUR',\n",
       "       'MDUR', 'MOUR', 'LASMT261982000000003', 'WVUR', 'SCUR', 'NVUR', 'IAUR',\n",
       "       'UTUR', 'OKUR', 'AKUR', 'NDUR', 'LAUR', 'LASMT391746000000003', 'CTUR',\n",
       "       'HIUR', 'PRUR', 'KSUR', 'RIUR', 'IDUR', 'MSUR', 'DCUR', 'NHUR', 'MTUR',\n",
       "       'MEUR', 'NEUR', 'CMWRUR', 'SDUR', 'VTUR', 'WYUR', 'DEUR', 'CNEWUR',\n",
       "       'CSOUUR', 'CNERUR', 'USAURAMS', 'JPNURAMS'],\n",
       "      dtype='object', name='series id')"
      ]
     },
     "execution_count": 66,
     "metadata": {},
     "output_type": "execute_result"
    }
   ],
   "source": [
    "unemp_df.index"
   ]
  }
 ],
 "metadata": {
  "kernelspec": {
   "display_name": "Python 3 (ipykernel)",
   "language": "python",
   "name": "python3"
  },
  "language_info": {
   "codemirror_mode": {
    "name": "ipython",
    "version": 3
   },
   "file_extension": ".py",
   "mimetype": "text/x-python",
   "name": "python",
   "nbconvert_exporter": "python",
   "pygments_lexer": "ipython3",
   "version": "3.11.5"
  }
 },
 "nbformat": 4,
 "nbformat_minor": 5
}
